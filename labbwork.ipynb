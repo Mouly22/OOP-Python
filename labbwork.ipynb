{
  "nbformat": 4,
  "nbformat_minor": 0,
  "metadata": {
    "colab": {
      "name": "Untitled5.ipynb",
      "provenance": [],
      "authorship_tag": "ABX9TyMBGCrd8gwsRX4KN4pM1ULb",
      "include_colab_link": true
    },
    "kernelspec": {
      "name": "python3",
      "display_name": "Python 3"
    },
    "language_info": {
      "name": "python"
    }
  },
  "cells": [
    {
      "cell_type": "markdown",
      "metadata": {
        "id": "view-in-github",
        "colab_type": "text"
      },
      "source": [
        "<a href=\"https://colab.research.google.com/github/Mouly22/OOP-Python/blob/main/labbwork.ipynb\" target=\"_parent\"><img src=\"https://colab.research.google.com/assets/colab-badge.svg\" alt=\"Open In Colab\"/></a>"
      ]
    },
    {
      "cell_type": "code",
      "execution_count": 6,
      "metadata": {
        "colab": {
          "base_uri": "https://localhost:8080/"
        },
        "id": "H2lLnPHfLQsA",
        "outputId": "20e65e8f-2f4d-4473-8957-3036a5120001"
      },
      "outputs": [
        {
          "output_type": "stream",
          "name": "stdout",
          "text": [
            "First Color: yellow\n",
            "Second Color: red\n",
            "Color formed: Orange\n"
          ]
        }
      ],
      "source": [
        "class Color:\n",
        "  def __init__(self, clr):\n",
        "    self.clr = clr\n",
        "\n",
        "  def __add__(self, other):\n",
        "    if self.clr == 'red' and other.clr == 'yellow' or  self.clr == 'yellow' and other.clr == 'red':\n",
        "      clr1 = 'Orange'\n",
        "      C3 = Color(clr1)\n",
        "    elif self.clr == 'red' and other.clr == 'blue' or self.clr == 'blue' and other.clr == 'red':\n",
        "      clr1 = 'Violet'\n",
        "      C3 = Color(clr1)\n",
        "\n",
        "    elif self.clr == 'yellow' and other.clr == 'blue' or self.clr == 'blue' and other.clr == 'yellow':\n",
        "      clr1 = 'Green'\n",
        "      C3 = Color(clr1)\n",
        "\n",
        "    return C3\n",
        "\n",
        "\n",
        "\n",
        "C1 = Color(input(\"First Color: \").lower())\n",
        "C2 = Color(input(\"Second Color: \").lower())\n",
        "C3 = C1 + C2\n",
        "print(\"Color formed:\", C3.clr)"
      ]
    },
    {
      "cell_type": "code",
      "source": [
        "Sample Input 1:\n",
        "First Color: red\n",
        "Second Color: yellow\n",
        "Sample Output 1:\n",
        "Color formed: Orange\n",
        "Sample Input 2:\n",
        "First Color: red\n",
        "Second Color: blue\n",
        "Sample Output 2:\n",
        "Color formed: Violet\n",
        "Sample Input 3:\n",
        "First Color: yellow\n",
        "Second Color: BLUE\n",
        "Sample Output 3:\n",
        "Color formed: Green"
      ],
      "metadata": {
        "id": "Hv36CphZMUty"
      },
      "execution_count": null,
      "outputs": []
    }
  ]
}