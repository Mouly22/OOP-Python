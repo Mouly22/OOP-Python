{
  "nbformat": 4,
  "nbformat_minor": 0,
  "metadata": {
    "colab": {
      "name": "Lab.ipynb",
      "provenance": [],
      "authorship_tag": "ABX9TyNqZ/ayLMgZ6DBYFILwbiMJ",
      "include_colab_link": true
    },
    "kernelspec": {
      "name": "python3",
      "display_name": "Python 3"
    },
    "language_info": {
      "name": "python"
    }
  },
  "cells": [
    {
      "cell_type": "markdown",
      "metadata": {
        "id": "view-in-github",
        "colab_type": "text"
      },
      "source": [
        "<a href=\"https://colab.research.google.com/github/Mouly22/OOP-Python/blob/main/Lab.ipynb\" target=\"_parent\"><img src=\"https://colab.research.google.com/assets/colab-badge.svg\" alt=\"Open In Colab\"/></a>"
      ]
    },
    {
      "cell_type": "code",
      "execution_count": 2,
      "metadata": {
        "id": "0RWYpfhl0Ik7",
        "colab": {
          "base_uri": "https://localhost:8080/"
        },
        "outputId": "807efc5d-01ea-419a-a63b-cf632343ab5a"
      },
      "outputs": [
        {
          "output_type": "stream",
          "name": "stdout",
          "text": [
            "Real Part: 1.0 \n",
            "Imaginary Part: 1.0\n",
            "---------\n",
            "Real Part: 5.0 \n",
            "Imaginary Part: 7.0\n"
          ]
        }
      ],
      "source": [
        "class RealNumber:\n",
        "  def __init__(self, r=0):\n",
        "    self.__realValue = r\n",
        "  def getRealValue(self):\n",
        "    return self.__realValue\n",
        "  def setRealValue(self, r):\n",
        "    self.__realValue = r\n",
        "  def __str__(self):\n",
        "    return 'RealPart: '+str(self.getRealValue())\n",
        "\n",
        "class ComplexNumber(RealNumber):\n",
        "  def __init__(self, r = 1.0, r1 = 1.0):\n",
        "    super().__init__(r = r)\n",
        "    self.r = float(super().getRealValue())\n",
        "    self.r1 = float(r1)\n",
        "\n",
        "  def __str__(self):\n",
        "    return f'Real Part: {self.r} \\nImaginary Part: {self.r1}'\n",
        "\n",
        "cn1 = ComplexNumber()\n",
        "print(cn1)\n",
        "print('---------')\n",
        "cn2 = ComplexNumber(5,7)\n",
        "print(cn2)"
      ]
    },
    {
      "cell_type": "code",
      "source": [
        "class RealNumber:\n",
        "  def __init__(self, number=0):\n",
        "    self.number = number\n",
        "  def __add__(self, anotherRealNumber):\n",
        "    return self.number + anotherRealNumber.number\n",
        "  def __sub__(self, anotherRealNumber):\n",
        "    return self.number - anotherRealNumber.number\n",
        "  def __str__(self):\n",
        "    return str(self.number)\n",
        "\n",
        "class ComplexNumber(RealNumber):\n",
        "  def __init__(self, number, i):\n",
        "    if type(number) == int:\n",
        "      super().__init__(number = number)\n",
        "    else:\n",
        "      super().__init__(number = number.number)\n",
        "    self.i = i\n",
        "\n",
        "  def __str__(self):\n",
        "    if self.i < 0:\n",
        "      return f'{self.number} - {(-1)*self.i}i'\n",
        "    else:\n",
        "      return f'{self.number} + {self.i}i'\n",
        "\n",
        "  def __add__(self, another):\n",
        "    val1 = super().__add__(another)\n",
        "    val2 = self.i + another.i\n",
        "    obj = ComplexNumber(val1, val2)\n",
        "    return obj\n",
        "\n",
        "  def __sub__(self, another):\n",
        "    val1 = super().__sub__(another)\n",
        "    val2 = self.i - another.i\n",
        "    obj = ComplexNumber(val1, val2)\n",
        "    return obj\n",
        "\n",
        "\n",
        "  \n",
        "\n",
        "    \n",
        "\n",
        "r1 = RealNumber(3)\n",
        "r2 = RealNumber(5)\n",
        "print(r1+r2)\n",
        "cn1 = ComplexNumber(2, 1)\n",
        "print(cn1)\n",
        "cn2 = ComplexNumber(r1, 5)\n",
        "print(cn2)\n",
        "cn3 = cn1 + cn2\n",
        "print(cn3)\n",
        "cn4 = cn1 - cn2\n",
        "print(cn4)"
      ],
      "metadata": {
        "colab": {
          "base_uri": "https://localhost:8080/"
        },
        "id": "MoSevP_G4NTb",
        "outputId": "06c6cf52-91a4-4132-c149-c6de5eef3f9b"
      },
      "execution_count": 9,
      "outputs": [
        {
          "output_type": "stream",
          "name": "stdout",
          "text": [
            "8\n",
            "2 + 1i\n",
            "3 + 5i\n",
            "5 + 6i\n",
            "-1 - 4i\n"
          ]
        }
      ]
    },
    {
      "cell_type": "code",
      "source": [
        "class Account:\n",
        "  def __init__(self, balance):\n",
        "    self._balance = balance\n",
        "  def getBalance(self):\n",
        "    return self._balance\n",
        "class CheckingAccount(Account):\n",
        "  numberOfAccount = 0\n",
        "  def __init__(self, balance = 0.0):\n",
        "    super().__init__(balance = balance)\n",
        "    self.balance = super().getBalance()\n",
        "    CheckingAccount.numberOfAccount += 1\n",
        "  def __str__(self):\n",
        "    if self.balance == 0.0:\n",
        "      return f'Account Balance: {self.balance}'\n",
        "    else:\n",
        "      return f'Account Balance: {self.balance}0'\n",
        "\n",
        "\n",
        "\n",
        "print('Number of Checking Accounts: ', CheckingAccount.numberOfAccount)\n",
        "print(CheckingAccount())\n",
        "print(CheckingAccount(100.00))\n",
        "print(CheckingAccount(200.00))\n",
        "print('Number of Checking Accounts: ', CheckingAccount.numberOfAccount)"
      ],
      "metadata": {
        "id": "8BTTLsml7wFM",
        "colab": {
          "base_uri": "https://localhost:8080/"
        },
        "outputId": "9b5e546b-d119-4409-84f9-d440e1935ceb"
      },
      "execution_count": 14,
      "outputs": [
        {
          "output_type": "stream",
          "name": "stdout",
          "text": [
            "Number of Checking Accounts:  0\n",
            "Account Balance: 0.0\n",
            "Account Balance: 100.00\n",
            "Account Balance: 200.00\n",
            "Number of Checking Accounts:  3\n"
          ]
        }
      ]
    },
    {
      "cell_type": "code",
      "source": [
        "class Fruit:\n",
        "  def __init__(self, formalin=False, name=''):\n",
        "    self.__formalin = formalin\n",
        "    self.name = name\n",
        "  def getName(self):\n",
        "    return self.name\n",
        "  def hasFormalin(self):\n",
        "    return self.__formalin\n",
        "\n",
        "class testFruit:\n",
        "\n",
        "  def test(self, f):\n",
        "    print('----Printing Detail----')\n",
        "    if f.hasFormalin():\n",
        "      print('Do not eat the',f.getName(),'.')\n",
        "      print(f)\n",
        "    else:\n",
        "      print('Eat the',f.getName(),'.')\n",
        "      print(f)\n",
        "\n",
        "class Mango(Fruit, testFruit):\n",
        "  def __init__(self, formalin = 'False', name = 'Mango'):\n",
        "    super().__init__(formalin = formalin, name = name)\n",
        "    self.formalin = super().hasFormalin()\n",
        "    self.name = name\n",
        "\n",
        "  def __str__(self):\n",
        "    return 'Mangos are bad for you'\n",
        "    \n",
        "  \n",
        "\n",
        "class Jackfruit(Fruit, testFruit):\n",
        "  def __init__(self, formalin = 'False', name = 'JackFruit'):\n",
        "     self.formalin = super().hasFormalin()\n",
        "     self.name = name\n",
        "\n",
        "  def __str__(self):\n",
        "    return 'Jackfruits are good for you'\n",
        "    \n",
        "\n",
        "\n",
        "  \n",
        "\n",
        "m = Mango()\n",
        "j = Jackfruit()\n",
        "t1 = testFruit()\n",
        "t1.test(m)\n",
        "t1.test(j)"
      ],
      "metadata": {
        "id": "0XfYDTNJ7wIq",
        "colab": {
          "base_uri": "https://localhost:8080/",
          "height": 380
        },
        "outputId": "3a8ef242-dcc8-4e61-8fdc-8920f2c92d9d"
      },
      "execution_count": 27,
      "outputs": [
        {
          "output_type": "error",
          "ename": "AttributeError",
          "evalue": "ignored",
          "traceback": [
            "\u001b[0;31m---------------------------------------------------------------------------\u001b[0m",
            "\u001b[0;31mAttributeError\u001b[0m                            Traceback (most recent call last)",
            "\u001b[0;32m<ipython-input-27-0483bbcb1d52>\u001b[0m in \u001b[0;36m<module>\u001b[0;34m\u001b[0m\n\u001b[1;32m     43\u001b[0m \u001b[0;34m\u001b[0m\u001b[0m\n\u001b[1;32m     44\u001b[0m \u001b[0mm\u001b[0m \u001b[0;34m=\u001b[0m \u001b[0mMango\u001b[0m\u001b[0;34m(\u001b[0m\u001b[0;34m)\u001b[0m\u001b[0;34m\u001b[0m\u001b[0;34m\u001b[0m\u001b[0m\n\u001b[0;32m---> 45\u001b[0;31m \u001b[0mj\u001b[0m \u001b[0;34m=\u001b[0m \u001b[0mJackfruit\u001b[0m\u001b[0;34m(\u001b[0m\u001b[0;34m)\u001b[0m\u001b[0;34m\u001b[0m\u001b[0;34m\u001b[0m\u001b[0m\n\u001b[0m\u001b[1;32m     46\u001b[0m \u001b[0mt1\u001b[0m \u001b[0;34m=\u001b[0m \u001b[0mtestFruit\u001b[0m\u001b[0;34m(\u001b[0m\u001b[0;34m)\u001b[0m\u001b[0;34m\u001b[0m\u001b[0;34m\u001b[0m\u001b[0m\n\u001b[1;32m     47\u001b[0m \u001b[0mt1\u001b[0m\u001b[0;34m.\u001b[0m\u001b[0mtest\u001b[0m\u001b[0;34m(\u001b[0m\u001b[0mm\u001b[0m\u001b[0;34m)\u001b[0m\u001b[0;34m\u001b[0m\u001b[0;34m\u001b[0m\u001b[0m\n",
            "\u001b[0;32m<ipython-input-27-0483bbcb1d52>\u001b[0m in \u001b[0;36m__init__\u001b[0;34m(self, formalin, name)\u001b[0m\n\u001b[1;32m     32\u001b[0m \u001b[0;32mclass\u001b[0m \u001b[0mJackfruit\u001b[0m\u001b[0;34m(\u001b[0m\u001b[0mFruit\u001b[0m\u001b[0;34m,\u001b[0m \u001b[0mtestFruit\u001b[0m\u001b[0;34m)\u001b[0m\u001b[0;34m:\u001b[0m\u001b[0;34m\u001b[0m\u001b[0;34m\u001b[0m\u001b[0m\n\u001b[1;32m     33\u001b[0m   \u001b[0;32mdef\u001b[0m \u001b[0m__init__\u001b[0m\u001b[0;34m(\u001b[0m\u001b[0mself\u001b[0m\u001b[0;34m,\u001b[0m \u001b[0mformalin\u001b[0m \u001b[0;34m=\u001b[0m \u001b[0;34m'False'\u001b[0m\u001b[0;34m,\u001b[0m \u001b[0mname\u001b[0m \u001b[0;34m=\u001b[0m \u001b[0;34m'JackFruit'\u001b[0m\u001b[0;34m)\u001b[0m\u001b[0;34m:\u001b[0m\u001b[0;34m\u001b[0m\u001b[0;34m\u001b[0m\u001b[0m\n\u001b[0;32m---> 34\u001b[0;31m      \u001b[0mself\u001b[0m\u001b[0;34m.\u001b[0m\u001b[0mformalin\u001b[0m \u001b[0;34m=\u001b[0m \u001b[0msuper\u001b[0m\u001b[0;34m(\u001b[0m\u001b[0;34m)\u001b[0m\u001b[0;34m.\u001b[0m\u001b[0mhasFormalin\u001b[0m\u001b[0;34m(\u001b[0m\u001b[0;34m)\u001b[0m\u001b[0;34m\u001b[0m\u001b[0;34m\u001b[0m\u001b[0m\n\u001b[0m\u001b[1;32m     35\u001b[0m      \u001b[0mself\u001b[0m\u001b[0;34m.\u001b[0m\u001b[0mname\u001b[0m \u001b[0;34m=\u001b[0m \u001b[0mname\u001b[0m\u001b[0;34m\u001b[0m\u001b[0;34m\u001b[0m\u001b[0m\n\u001b[1;32m     36\u001b[0m \u001b[0;34m\u001b[0m\u001b[0m\n",
            "\u001b[0;32m<ipython-input-27-0483bbcb1d52>\u001b[0m in \u001b[0;36mhasFormalin\u001b[0;34m(self)\u001b[0m\n\u001b[1;32m      6\u001b[0m     \u001b[0;32mreturn\u001b[0m \u001b[0mself\u001b[0m\u001b[0;34m.\u001b[0m\u001b[0mname\u001b[0m\u001b[0;34m\u001b[0m\u001b[0;34m\u001b[0m\u001b[0m\n\u001b[1;32m      7\u001b[0m   \u001b[0;32mdef\u001b[0m \u001b[0mhasFormalin\u001b[0m\u001b[0;34m(\u001b[0m\u001b[0mself\u001b[0m\u001b[0;34m)\u001b[0m\u001b[0;34m:\u001b[0m\u001b[0;34m\u001b[0m\u001b[0;34m\u001b[0m\u001b[0m\n\u001b[0;32m----> 8\u001b[0;31m     \u001b[0;32mreturn\u001b[0m \u001b[0mself\u001b[0m\u001b[0;34m.\u001b[0m\u001b[0m__formalin\u001b[0m\u001b[0;34m\u001b[0m\u001b[0;34m\u001b[0m\u001b[0m\n\u001b[0m\u001b[1;32m      9\u001b[0m \u001b[0;34m\u001b[0m\u001b[0m\n\u001b[1;32m     10\u001b[0m \u001b[0;32mclass\u001b[0m \u001b[0mtestFruit\u001b[0m\u001b[0;34m:\u001b[0m\u001b[0;34m\u001b[0m\u001b[0;34m\u001b[0m\u001b[0m\n",
            "\u001b[0;31mAttributeError\u001b[0m: 'Jackfruit' object has no attribute '_Fruit__formalin'"
          ]
        }
      ]
    },
    {
      "cell_type": "code",
      "source": [
        ""
      ],
      "metadata": {
        "id": "8UjHBLDM7wQC"
      },
      "execution_count": null,
      "outputs": []
    },
    {
      "cell_type": "code",
      "source": [
        ""
      ],
      "metadata": {
        "id": "t6kQwnv87wXS"
      },
      "execution_count": null,
      "outputs": []
    },
    {
      "cell_type": "code",
      "source": [
        ""
      ],
      "metadata": {
        "id": "x1JVCwYz7waq"
      },
      "execution_count": null,
      "outputs": []
    },
    {
      "cell_type": "code",
      "source": [
        "class PokemonBasic:\n",
        "    def __init__(self, name = 'Default', hp = 0,weakness = 'None', type = 'Unknown'):\n",
        "        self.name = name\n",
        "        self.hit_point = hp\n",
        "        self.weakness = weakness\n",
        "        self.type = type\n",
        "    def get_type(self):\n",
        "        return 'Main type: ' + self.type\n",
        "    def get_move(self):\n",
        "        return 'Basic move: ' + 'Quick Attack'\n",
        "    def __str__(self):\n",
        "        return \"Name: \" + self.name + \", HP: \" +str(self.hit_point) + \", Weakness: \" + self.weakness\n",
        "\n",
        "class PokemonExtra(PokemonBasic):\n",
        "    def __init__(self, name='Default', hp=0, weakness='None', type='Unknown',*args):\n",
        "        super().__init__(name=name, hp=hp, weakness=weakness, type=type)\n",
        "        self.lst = args\n",
        "    def get_type(self):\n",
        "        if len(self.lst)==0:\n",
        "           \n",
        "            return super().get_type()\n",
        "        else:\n",
        "            return f\"Main type: {self.type}, Secondary type: {self.lst[0]}\"\n",
        "    def get_move(self):\n",
        "        if len(self.lst)==0:\n",
        "            return super().get_move()\n",
        "        else:\n",
        "            sum1 = \"\"\n",
        "            for elm in self.lst[1]:\n",
        "                sum1 += elm + ', '\n",
        "            sum1 = sum1.rstrip(\", \")\n",
        "        return f\"Basic move: Quick Attack\\nOther move: {sum1}\"\n",
        "    \n",
        "print('\\n------------Basic Info:--------------')\n",
        "pk = PokemonBasic()\n",
        "print(pk)\n",
        "print(pk.get_type())\n",
        "print(pk.get_move())\n",
        "print('\\n------------Pokemon 1 Info:-------------')\n",
        "charmander = PokemonExtra('Charmander', 39, 'Water',\n",
        "'Fire')\n",
        "print(charmander)\n",
        "print(charmander.get_type())\n",
        "print(charmander.get_move())\n",
        "print('\\n------------Pokemon 2 Info:-------------')\n",
        "charizard = PokemonExtra('Charizard', 78, 'Water',\n",
        "'Fire', 'Flying', ('Fire Spin', 'Fire Blaze'))\n",
        "print(charizard)\n",
        "print(charizard.get_type())\n",
        "print(charizard.get_move())"
      ],
      "metadata": {
        "id": "BxDqoBoE7wdt",
        "colab": {
          "base_uri": "https://localhost:8080/"
        },
        "outputId": "4481479d-3e37-41f7-e2a0-8276b6dfb457"
      },
      "execution_count": 18,
      "outputs": [
        {
          "output_type": "stream",
          "name": "stdout",
          "text": [
            "\n",
            "------------Basic Info:--------------\n",
            "Name: Default, HP: 0, Weakness: None\n",
            "Main type: Unknown\n",
            "Basic move: Quick Attack\n",
            "\n",
            "------------Pokemon 1 Info:-------------\n",
            "Name: Charmander, HP: 39, Weakness: Water\n",
            "Main type: Fire\n",
            "Basic move: Quick Attack\n",
            "\n",
            "------------Pokemon 2 Info:-------------\n",
            "Name: Charizard, HP: 78, Weakness: Water\n",
            "Main type: Fire, Secondary type: Flying\n",
            "Basic move: Quick Attack\n",
            "Other move: Fire Spin, Fire Blaze\n"
          ]
        }
      ]
    },
    {
      "cell_type": "code",
      "source": [
        ""
      ],
      "metadata": {
        "id": "IqecDHGG7wgi"
      },
      "execution_count": null,
      "outputs": []
    },
    {
      "cell_type": "code",
      "source": [
        ""
      ],
      "metadata": {
        "id": "W7BP-UGf7wjk"
      },
      "execution_count": null,
      "outputs": []
    },
    {
      "cell_type": "code",
      "source": [
        ""
      ],
      "metadata": {
        "id": "tetpAHcu7wol"
      },
      "execution_count": null,
      "outputs": []
    },
    {
      "cell_type": "code",
      "source": [
        ""
      ],
      "metadata": {
        "id": "BbXUCTGu7wsM"
      },
      "execution_count": null,
      "outputs": []
    }
  ]
}