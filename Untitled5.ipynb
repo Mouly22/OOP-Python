{
  "nbformat": 4,
  "nbformat_minor": 0,
  "metadata": {
    "colab": {
      "name": "Untitled5.ipynb",
      "provenance": [],
      "authorship_tag": "ABX9TyOAxMPK1j3eMESMmcHau+kJ",
      "include_colab_link": true
    },
    "kernelspec": {
      "name": "python3",
      "display_name": "Python 3"
    },
    "language_info": {
      "name": "python"
    }
  },
  "cells": [
    {
      "cell_type": "markdown",
      "metadata": {
        "id": "view-in-github",
        "colab_type": "text"
      },
      "source": [
        "<a href=\"https://colab.research.google.com/github/Mouly22/OOP-Python/blob/main/Untitled5.ipynb\" target=\"_parent\"><img src=\"https://colab.research.google.com/assets/colab-badge.svg\" alt=\"Open In Colab\"/></a>"
      ]
    },
    {
      "cell_type": "code",
      "execution_count": 6,
      "metadata": {
        "colab": {
          "base_uri": "https://localhost:8080/"
        },
        "id": "H2lLnPHfLQsA",
        "outputId": "20e65e8f-2f4d-4473-8957-3036a5120001"
      },
      "outputs": [
        {
          "output_type": "stream",
          "name": "stdout",
          "text": [
            "First Color: yellow\n",
            "Second Color: red\n",
            "Color formed: Orange\n"
          ]
        }
      ],
      "source": [
        "class Color:\n",
        "  def __init__(self, clr):\n",
        "    self.clr = clr\n",
        "\n",
        "  def __add__(self, other):\n",
        "    if self.clr == 'red' and other.clr == 'yellow' or  self.clr == 'yellow' and other.clr == 'red':\n",
        "      clr1 = 'Orange'\n",
        "      C3 = Color(clr1)\n",
        "    elif self.clr == 'red' and other.clr == 'blue' or self.clr == 'blue' and other.clr == 'red':\n",
        "      clr1 = 'Violet'\n",
        "      C3 = Color(clr1)\n",
        "\n",
        "    elif self.clr == 'yellow' and other.clr == 'blue' or self.clr == 'blue' and other.clr == 'yellow':\n",
        "      clr1 = 'Green'\n",
        "      C3 = Color(clr1)\n",
        "\n",
        "    return C3\n",
        "\n",
        "\n",
        "\n",
        "C1 = Color(input(\"First Color: \").lower())\n",
        "C2 = Color(input(\"Second Color: \").lower())\n",
        "C3 = C1 + C2\n",
        "print(\"Color formed:\", C3.clr)"
      ]
    },
    {
      "cell_type": "code",
      "source": [
        "import math\n",
        "class Circle:\n",
        "  def __init__(self, radius):\n",
        "    self.__radius = radius\n",
        "\n",
        "  def getRadius(self):\n",
        "    return self.__radius\n",
        "\n",
        "  def setRadius(self):\n",
        "    return self.__radius\n",
        "\n",
        "  def area(self):\n",
        "    val = (self.__radius ** 2)* math.pi\n",
        "    return val\n",
        "\n",
        "  def __add__(self, other):\n",
        "    res = self.__radius + other.__radius\n",
        "    c3 = Circle(res)\n",
        "    return c3\n",
        "\n",
        "c1 = Circle(4)\n",
        "print(\"First circle radius:\" , c1.getRadius())\n",
        "print(\"First circle area:\" ,c1.area())\n",
        "c2 = Circle(5)\n",
        "print(\"Second circle radius:\" ,c2.getRadius())\n",
        "print(\"Second circle area:\" ,c2.area())\n",
        "c3 = c1 + c2\n",
        "print(\"Third circle radius:\" ,c3.getRadius())\n",
        "print(\"Third circle area:\" ,c3.area())"
      ],
      "metadata": {
        "colab": {
          "base_uri": "https://localhost:8080/"
        },
        "id": "Hv36CphZMUty",
        "outputId": "ec7683b6-3cc9-4cc5-ad91-4fa8b4dddf76"
      },
      "execution_count": 25,
      "outputs": [
        {
          "output_type": "stream",
          "name": "stdout",
          "text": [
            "First circle radius: 4\n",
            "First circle area: 50.26548245743669\n",
            "Second circle radius: 5\n",
            "Second circle area: 78.53981633974483\n",
            "Third circle radius: 9\n",
            "Third circle area: 254.46900494077323\n"
          ]
        }
      ]
    },
    {
      "cell_type": "code",
      "source": [
        ""
      ],
      "metadata": {
        "id": "WA0kdzIQQU3c"
      },
      "execution_count": null,
      "outputs": []
    },
    {
      "cell_type": "code",
      "source": [
        ""
      ],
      "metadata": {
        "id": "RNdplKjmQOaO"
      },
      "execution_count": null,
      "outputs": []
    }
  ]
}