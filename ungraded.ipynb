{
  "nbformat": 4,
  "nbformat_minor": 0,
  "metadata": {
    "colab": {
      "name": "ungraded.ipynb",
      "provenance": [],
      "authorship_tag": "ABX9TyPG4ULoYCLa197IS7MsALsP",
      "include_colab_link": true
    },
    "kernelspec": {
      "name": "python3",
      "display_name": "Python 3"
    },
    "language_info": {
      "name": "python"
    }
  },
  "cells": [
    {
      "cell_type": "markdown",
      "metadata": {
        "id": "view-in-github",
        "colab_type": "text"
      },
      "source": [
        "<a href=\"https://colab.research.google.com/github/Mouly22/OOP-Python/blob/main/ungraded.ipynb\" target=\"_parent\"><img src=\"https://colab.research.google.com/assets/colab-badge.svg\" alt=\"Open In Colab\"/></a>"
      ]
    },
    {
      "cell_type": "code",
      "execution_count": 47,
      "metadata": {
        "id": "0RWYpfhl0Ik7"
      },
      "outputs": [],
      "source": [
        ""
      ]
    },
    {
      "cell_type": "code",
      "source": [
        "class Student:\n",
        "  def __init__(self, name, id, dept):\n",
        "    self.name = name\n",
        "    self.id = id\n",
        "    self.dept = dept\n",
        "\n",
        "  def details(self):\n",
        "    print(f'Name:{self.name}')\n",
        "    print(f'ID:{self.id}')\n",
        "    print(f'Department: {self.dept}')\n",
        "\n",
        "              \n",
        "              \n",
        "              \n",
        "  def advise(self, *sub):\n",
        "    if len(sub) == 2:\n",
        "      g = len(sub) * 3\n",
        "      msg = 'Status: You have to take at least 1 more course.'\n",
        "    elif len(sub) == 3:\n",
        "      g =  len(sub) * 3\n",
        "      msg = 'Status: Ok'\n",
        "    elif len(sub) == 5:\n",
        "      g = len(sub) * 3\n",
        "      msg = 'Status: You have to drop at least 1 course.'\n",
        "\n",
        "    print(f'{self.name}, you have taken {g} credits.')\n",
        "    print('List of courses:')\n",
        "    lst = []\n",
        "    for i in sub:\n",
        "      lst.append(i)\n",
        "    for k in lst:\n",
        "      mm = ''.join(str(k))\n",
        "      print(mm, end = ' ')\n",
        "    print()\n",
        "\n",
        "    print(msg)\n",
        "      \n",
        "\n",
        "\n",
        "\n",
        "s1 = Student('Alice','20103012','CSE')\n",
        "s2 = Student('Bob', '18301254','EEE')\n",
        "s3 = Student('Carol', '17101238','CSE')\n",
        "print('##########################')\n",
        "print(s1.details())\n",
        "print('##########################')\n",
        "print(s2.details())\n",
        "print('##########################')\n",
        "s1.advise('CSE110', 'MAT110', 'PHY111')\n",
        "print('##########################')\n",
        "s2.advise('BUS101', 'MAT120')\n",
        "print('##########################')\n",
        "s3.advise('MAT110', 'PHY111', 'ENG102','CSE111', 'CSE230')"
      ],
      "metadata": {
        "colab": {
          "base_uri": "https://localhost:8080/"
        },
        "id": "MoSevP_G4NTb",
        "outputId": "b073a246-8f36-4221-91e8-c6abd506e8f6"
      },
      "execution_count": 47,
      "outputs": [
        {
          "output_type": "stream",
          "name": "stdout",
          "text": [
            "##########################\n",
            "Name:Alice\n",
            "ID:20103012\n",
            "Department: CSE\n",
            "None\n",
            "##########################\n",
            "Name:Bob\n",
            "ID:18301254\n",
            "Department: EEE\n",
            "None\n",
            "##########################\n",
            "Alice, you have taken 9 credits.\n",
            "List of courses:\n",
            "CSE110 MAT110 PHY111 \n",
            "Status: Ok\n",
            "##########################\n",
            "Bob, you have taken 6 credits.\n",
            "List of courses:\n",
            "BUS101 MAT120 \n",
            "Status: You have to take at least 1 more course.\n",
            "##########################\n",
            "Carol, you have taken 15 credits.\n",
            "List of courses:\n",
            "MAT110 PHY111 ENG102 CSE111 CSE230 \n",
            "Status: You have to drop at least 1 course.\n"
          ]
        }
      ]
    },
    {
      "cell_type": "code",
      "source": [
        ""
      ],
      "metadata": {
        "id": "8BTTLsml7wFM"
      },
      "execution_count": null,
      "outputs": []
    },
    {
      "cell_type": "code",
      "source": [
        ""
      ],
      "metadata": {
        "id": "0XfYDTNJ7wIq"
      },
      "execution_count": null,
      "outputs": []
    },
    {
      "cell_type": "code",
      "source": [
        ""
      ],
      "metadata": {
        "id": "8UjHBLDM7wQC"
      },
      "execution_count": null,
      "outputs": []
    },
    {
      "cell_type": "code",
      "source": [
        ""
      ],
      "metadata": {
        "id": "t6kQwnv87wXS"
      },
      "execution_count": null,
      "outputs": []
    },
    {
      "cell_type": "code",
      "source": [
        ""
      ],
      "metadata": {
        "id": "x1JVCwYz7waq"
      },
      "execution_count": null,
      "outputs": []
    },
    {
      "cell_type": "code",
      "source": [
        ""
      ],
      "metadata": {
        "id": "BxDqoBoE7wdt"
      },
      "execution_count": null,
      "outputs": []
    },
    {
      "cell_type": "code",
      "source": [
        ""
      ],
      "metadata": {
        "id": "IqecDHGG7wgi"
      },
      "execution_count": null,
      "outputs": []
    },
    {
      "cell_type": "code",
      "source": [
        ""
      ],
      "metadata": {
        "id": "W7BP-UGf7wjk"
      },
      "execution_count": null,
      "outputs": []
    },
    {
      "cell_type": "code",
      "source": [
        ""
      ],
      "metadata": {
        "id": "tetpAHcu7wol"
      },
      "execution_count": null,
      "outputs": []
    },
    {
      "cell_type": "code",
      "source": [
        ""
      ],
      "metadata": {
        "id": "BbXUCTGu7wsM"
      },
      "execution_count": null,
      "outputs": []
    }
  ]
}