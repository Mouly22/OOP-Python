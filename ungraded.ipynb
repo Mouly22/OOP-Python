{
  "nbformat": 4,
  "nbformat_minor": 0,
  "metadata": {
    "colab": {
      "name": "ungraded.ipynb",
      "provenance": [],
      "authorship_tag": "ABX9TyOpcHszG3ZV1olmFnMB6bWh",
      "include_colab_link": true
    },
    "kernelspec": {
      "name": "python3",
      "display_name": "Python 3"
    },
    "language_info": {
      "name": "python"
    }
  },
  "cells": [
    {
      "cell_type": "markdown",
      "metadata": {
        "id": "view-in-github",
        "colab_type": "text"
      },
      "source": [
        "<a href=\"https://colab.research.google.com/github/Mouly22/OOP-Python/blob/main/ungraded.ipynb\" target=\"_parent\"><img src=\"https://colab.research.google.com/assets/colab-badge.svg\" alt=\"Open In Colab\"/></a>"
      ]
    },
    {
      "cell_type": "code",
      "execution_count": null,
      "metadata": {
        "id": "0RWYpfhl0Ik7"
      },
      "outputs": [],
      "source": [
        ""
      ]
    },
    {
      "cell_type": "code",
      "source": [
        "class Student:\n",
        "  def __init__(self, name, id, dept):\n",
        "    self.name = name\n",
        "    self.id = id\n",
        "    self.dept = dept\n",
        "\n",
        "  def details(self):\n",
        "    print(f'Name:{self.name}')\n",
        "    print(f'ID:{self.id}')\n",
        "    print(f'Department: {self.dept}')\n",
        "\n",
        "              \n",
        "              \n",
        "              \n",
        "  def advise(self, *sub):\n",
        "    if len(sub) == 2:\n",
        "      g = len(sub) * 3\n",
        "      msg = 'Status: You have to take at least 1 more course.'\n",
        "    elif len(sub) == 3:\n",
        "      g =  len(sub) * 3\n",
        "      msg = 'Status: Ok'\n",
        "    elif len(sub) == 5:\n",
        "      g = len(sub) * 3\n",
        "      msg = 'Status: You have to drop at least 1 course.'\n",
        "\n",
        "    print(f'{self.name}, you have taken {g} credits.')\n",
        "    print('List of courses:')\n",
        "    lst = []\n",
        "    for i in sub:\n",
        "      lst.append(i)\n",
        "    for k in lst:\n",
        "      mm = ''.join(str(k))\n",
        "      print(mm, end = ' ')\n",
        "    print()\n",
        "\n",
        "    print(msg)\n",
        "      \n",
        "\n",
        "\n",
        "\n",
        "s1 = Student('Alice','20103012','CSE')\n",
        "s2 = Student('Bob', '18301254','EEE')\n",
        "s3 = Student('Carol', '17101238','CSE')\n",
        "print('##########################')\n",
        "print(s1.details())\n",
        "print('##########################')\n",
        "print(s2.details())\n",
        "print('##########################')\n",
        "s1.advise('CSE110', 'MAT110', 'PHY111')\n",
        "print('##########################')\n",
        "s2.advise('BUS101', 'MAT120')\n",
        "print('##########################')\n",
        "s3.advise('MAT110', 'PHY111', 'ENG102','CSE111', 'CSE230')"
      ],
      "metadata": {
        "colab": {
          "base_uri": "https://localhost:8080/"
        },
        "id": "MoSevP_G4NTb",
        "outputId": "b073a246-8f36-4221-91e8-c6abd506e8f6"
      },
      "execution_count": null,
      "outputs": [
        {
          "output_type": "stream",
          "name": "stdout",
          "text": [
            "##########################\n",
            "Name:Alice\n",
            "ID:20103012\n",
            "Department: CSE\n",
            "None\n",
            "##########################\n",
            "Name:Bob\n",
            "ID:18301254\n",
            "Department: EEE\n",
            "None\n",
            "##########################\n",
            "Alice, you have taken 9 credits.\n",
            "List of courses:\n",
            "CSE110 MAT110 PHY111 \n",
            "Status: Ok\n",
            "##########################\n",
            "Bob, you have taken 6 credits.\n",
            "List of courses:\n",
            "BUS101 MAT120 \n",
            "Status: You have to take at least 1 more course.\n",
            "##########################\n",
            "Carol, you have taken 15 credits.\n",
            "List of courses:\n",
            "MAT110 PHY111 ENG102 CSE111 CSE230 \n",
            "Status: You have to drop at least 1 course.\n"
          ]
        }
      ]
    },
    {
      "cell_type": "code",
      "source": [
        ""
      ],
      "metadata": {
        "id": "8BTTLsml7wFM"
      },
      "execution_count": null,
      "outputs": []
    },
    {
      "cell_type": "code",
      "source": [
        "ID: 1 Title: The Alchemist Price: 500 ISBN: 97806 Publisher: HarperCollins\n",
        "-----------------------\n",
        "ID: 2 Title: Shotto Price: 300 \n",
        "Band: Warfaze Duration: 50 minutes Genre: Hard Rock\n"
      ],
      "metadata": {
        "id": "0XfYDTNJ7wIq"
      },
      "execution_count": null,
      "outputs": []
    },
    {
      "cell_type": "code",
      "source": [
        "class Product:\n",
        "    def __init__(self,id, title, price):\n",
        "        self.__id = id\n",
        "        self.__title = title\n",
        "        self.__price = price\n",
        "    def get_id_title_price(self):\n",
        "        return \"ID: \"+str(self.__id)+\" Title:\"+self.__title+ \"Price: \"+str(self.__price)\n",
        "#write your code here\n",
        "class Book(Product):\n",
        "    def __init__(self, id, title, price, isbn, publisher):\n",
        "        super().__init__(id, title, price)\n",
        "        self.isbn = isbn\n",
        "        self.publisher = publisher\n",
        "\n",
        "    def printDetail(self):\n",
        "       print(super().get_id_title_price())\n",
        "       return f'ISBN: {self.isbn} Publisher: {self.publisher}'\n",
        "    \n",
        "class CD(Product):\n",
        "    def __init__(self, id, title, price, band, duration, genre):\n",
        "       super().__init__(id, title, price)\n",
        "       self.band = band\n",
        "       self.duration = duration\n",
        "       self.genre = genre\n",
        "\n",
        "    def printDetail(self):\n",
        "        print(super().get_id_title_price())\n",
        "        print(f\"Band: {self.band} Duration: {self.duration}\")\n",
        "        return f\"Genre: {self.genre}\"\n",
        "    \n",
        "book = Book(1,\"The Alchemist\",500,\"97806\",\"HarperCollins\")\n",
        "print(book.printDetail())\n",
        "print(\"-----------------------\")\n",
        "cd = CD(2,\"Shotto\",300,\"Warfaze\",50,\"Hard Rock\")\n",
        "print(cd.printDetail())\n",
        "\n",
        "\n"
      ],
      "metadata": {
        "id": "8UjHBLDM7wQC",
        "outputId": "857ba185-0d17-4ad0-aca3-aa5ec0aa9196",
        "colab": {
          "base_uri": "https://localhost:8080/"
        }
      },
      "execution_count": 9,
      "outputs": [
        {
          "output_type": "stream",
          "name": "stdout",
          "text": [
            "ID: 1 Title:The AlchemistPrice: 500\n",
            "ISBN: 97806 Publisher: HarperCollins\n",
            "-----------------------\n",
            "ID: 2 Title:ShottoPrice: 300\n",
            "Band: Warfaze Duration: 50\n",
            "Genre: Hard Rock\n"
          ]
        }
      ]
    },
    {
      "cell_type": "code",
      "source": [
        "class Animal:   \n",
        "    def __init__(self,sound):\n",
        "        self.__sound = sound\n",
        "        \n",
        "    def makeSound(self):\n",
        "        return self.__sound\n",
        "        \n",
        "class Dog(Animal):\n",
        "   def __init__(self, sound):\n",
        "      super().__init__(sound = sound)\n",
        "\n",
        "class Cat(Animal):\n",
        "   def __init__(self, sound):\n",
        "      super\n",
        "      \n",
        "    \n",
        "\n",
        "class Printer:   \n",
        "    def printSound(self, a):\n",
        "        print(a.makeSound())\n",
        "\n",
        "\n",
        "#write your code here\n",
        "\n",
        "d1 = Dog('bark')\n",
        "c1 = Cat('meow')\n",
        "a1 = Animal('Animal does not make sound')\n",
        "pr = Printer()\n",
        "pr.printSound(a1)\n",
        "pr.printSound(c1)\n",
        "pr.printSound(d1)"
      ],
      "metadata": {
        "id": "t6kQwnv87wXS"
      },
      "execution_count": null,
      "outputs": []
    },
    {
      "cell_type": "code",
      "source": [
        "OUTPUT:\n",
        "Shape name: Default\n",
        "Height: 0, Base: 0\n",
        "Area: 0.0\n",
        "---------------------------\n",
        "Shape name: Triangle\n",
        "Height: 10, Base: 5\n",
        "Area: 25.0\n",
        "---------------------------\n",
        "Shape name: Trapezoid \n",
        "Height: 10, Base: 6, Side_A: 4\n",
        "Area: 50.0\n"
      ],
      "metadata": {
        "id": "x1JVCwYz7waq"
      },
      "execution_count": null,
      "outputs": []
    },
    {
      "cell_type": "code",
      "source": [
        "class Shape:\n",
        "\n",
        "  def __init__(self, name='Default', height=0, base=0):\n",
        "    self.area = 0\n",
        "    self.name = name\n",
        "    self.height = height\n",
        "    self.base = base\n",
        "\n",
        "  def get_height_base(self):\n",
        "    return \"Height: \"+str(self.height)+\",Base: \"+str(self.base)\n",
        "\n",
        "#write your code here\n",
        "class triangle(Shape):\n",
        "    def __init__(self,  name='Default', height=0, base=0):\n",
        "      super().__init__(name = name, height = height, base = base)\n",
        "    \n",
        "    def calcArea(self):\n",
        "       self.area = 0.5*self.base*self.height\n",
        "\n",
        "    def printDetail(self):\n",
        "        print(f\"Shape name: {self.name}\")\n",
        "        print(f\"Height: {self.height}, Base: {self.base}\")\n",
        "        return f\"Area: {self.area}\"\n",
        "\n",
        "class trapezoid(Shape):\n",
        "   def __init__(self, name= 'Default', height = 0, base = 0, side_A = 0):\n",
        "       super().__init__(name = name, height = height, base = base)\n",
        "       self.side_A = side_A\n",
        "\n",
        "\n",
        "   def calcArea(self):\n",
        "       self.area = 0.5*(self.base+self.side_A)*self.height\n",
        "  \n",
        "   def printDetail(self):\n",
        "       print(f\"Shape name: {self.name}\")\n",
        "       print(f\"Height: {self.height}, Base: {self.base}, Side_A: {self.side_A}\")\n",
        "       return f\"Area: {self.area}\"\n",
        "\n",
        "\n",
        "\n",
        "\n",
        "tri_default = triangle()\n",
        "tri_default.calcArea()\n",
        "print(tri_default.printDetail())\n",
        "print('--------------------------')\n",
        "tri = triangle('Triangle', 10, 5)\n",
        "tri.calcArea()\n",
        "print(tri.printDetail())\n",
        "print('---------------------------')\n",
        "trap = trapezoid('Trapezoid', 10, 6, 4)\n",
        "trap.calcArea()\n",
        "print(trap.printDetail())\n"
      ],
      "metadata": {
        "id": "BxDqoBoE7wdt",
        "outputId": "deda6f34-1789-4295-80e3-965caac74393",
        "colab": {
          "base_uri": "https://localhost:8080/"
        }
      },
      "execution_count": 10,
      "outputs": [
        {
          "output_type": "stream",
          "name": "stdout",
          "text": [
            "Shape name: Default\n",
            "Height: 0, Base: 0\n",
            "Area: 0.0\n",
            "--------------------------\n",
            "Shape name: Triangle\n",
            "Height: 10, Base: 5\n",
            "Area: 25.0\n",
            "---------------------------\n",
            "Shape name: Trapezoid\n",
            "Height: 10, Base: 6, Side_A: 4\n",
            "Area: 50.0\n"
          ]
        }
      ]
    },
    {
      "cell_type": "code",
      "source": [
        "Student1 Created with default parameters\n",
        "*********************************\n",
        "Student1 :\n",
        "Name: Unknown\n",
        "Department: CSE\n",
        "CGPA: 0\n",
        "*********************************\n",
        "Student2 :\n",
        "Name: Karim\n",
        "Department: EEE\n",
        "CGPA: 3.33\n",
        "********************************\n",
        "Student3 :\n",
        "Name: Rahim\n",
        "Department: ECE\n",
        "CGPA: 3.1\n",
        "********************************\n",
        "3.50>3.22\n"
      ],
      "metadata": {
        "id": "GkkzQU-oewrm"
      },
      "execution_count": null,
      "outputs": []
    },
    {
      "cell_type": "code",
      "source": [
        "class Student:\n",
        "  count = 0\n",
        "  @staticmethod\n",
        "  def CreateStudent():\n",
        "    print('Student1 Created with default parameters')\n",
        "\n",
        "  @classmethod\n",
        "  def CreateStudent(cls,  name= 'Unknown', dept= 'CSE', cgpa= 0):\n",
        "     cls.name = name\n",
        "     cls.dept = dept\n",
        "     cls.cgpa = cgpa\n",
        "     obj = cls(name, dept, cgpa)\n",
        "     return obj\n",
        "     \n",
        "     \n",
        "\n",
        "\n",
        "  def __init__(self, name= 'Unknown', dept= 'CSE', cgpa= 0):\n",
        "     \n",
        "     self.name = name\n",
        "     self.dept = dept\n",
        "     self.cgpa = cgpa\n",
        "     Student.count += 1\n",
        "  def updateCGPA(self, cgpa):\n",
        "     self.cgpa = cgpa\n",
        "\n",
        "  def details(self):\n",
        "    print('Student1 Created with default parameters')\n",
        "    print(f'*********************************')\n",
        "    print(f'Student{Student.count}:')\n",
        "    print(f'Name: {self.name}')\n",
        "    print(f'Department:{self.dept}')\n",
        "    print(f'CGPA:{self.cgpa}')\n",
        "\n",
        "  @classmethod\n",
        "  def compare(cls, v1, v2):\n",
        "    if v1 > v2:\n",
        "      print(f'{v1}> {v2}')\n",
        "    else:\n",
        "      print(f'{v2}> {v1}')\n",
        "    \n",
        "\n",
        "\n",
        "\n",
        "Student1 = Student.CreateStudent()\n",
        "Student2 = Student('Karim','EEE')\n",
        "Student3 = Student('Rahim','ECE')\n",
        "Student1.details()\n",
        "Student2.updateCGPA(3.33)\n",
        "Student3.updateCGPA(3.1)\n",
        "\n",
        "Student4=Student('Sani','BBA',3.53)\n",
        "\n",
        "Student2.details()\n",
        "Student3.details()\n",
        "Student.compare(3.22, 3.50)\n"
      ],
      "metadata": {
        "id": "IqecDHGG7wgi",
        "outputId": "b9fd3e40-f4ea-47c4-da70-9f513cca3599",
        "colab": {
          "base_uri": "https://localhost:8080/"
        }
      },
      "execution_count": 33,
      "outputs": [
        {
          "output_type": "stream",
          "name": "stdout",
          "text": [
            "Student1 Created with default parameters\n",
            "*********************************\n",
            "Student3:\n",
            "Name: Unknown\n",
            "Department:CSE\n",
            "CGPA:0\n",
            "Student1 Created with default parameters\n",
            "*********************************\n",
            "Student4:\n",
            "Name: Karim\n",
            "Department:EEE\n",
            "CGPA:3.33\n",
            "Student1 Created with default parameters\n",
            "*********************************\n",
            "Student4:\n",
            "Name: Rahim\n",
            "Department:ECE\n",
            "CGPA:3.1\n",
            "3.5> 3.22\n"
          ]
        }
      ]
    },
    {
      "cell_type": "code",
      "source": [
        ""
      ],
      "metadata": {
        "id": "W7BP-UGf7wjk"
      },
      "execution_count": null,
      "outputs": []
    },
    {
      "cell_type": "code",
      "source": [
        ""
      ],
      "metadata": {
        "id": "tetpAHcu7wol"
      },
      "execution_count": null,
      "outputs": []
    },
    {
      "cell_type": "code",
      "source": [
        ""
      ],
      "metadata": {
        "id": "BbXUCTGu7wsM"
      },
      "execution_count": null,
      "outputs": []
    }
  ]
}