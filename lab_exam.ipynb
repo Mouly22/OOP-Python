{
  "nbformat": 4,
  "nbformat_minor": 0,
  "metadata": {
    "colab": {
      "name": "lab exam.ipynb",
      "provenance": [],
      "authorship_tag": "ABX9TyOXrQCNqYrdt2LAUet0i7Ok",
      "include_colab_link": true
    },
    "kernelspec": {
      "name": "python3",
      "display_name": "Python 3"
    },
    "language_info": {
      "name": "python"
    }
  },
  "cells": [
    {
      "cell_type": "markdown",
      "metadata": {
        "id": "view-in-github",
        "colab_type": "text"
      },
      "source": [
        "<a href=\"https://colab.research.google.com/github/Mouly22/OOP-Python/blob/main/lab_exam.ipynb\" target=\"_parent\"><img src=\"https://colab.research.google.com/assets/colab-badge.svg\" alt=\"Open In Colab\"/></a>"
      ]
    },
    {
      "cell_type": "code",
      "execution_count": 16,
      "metadata": {
        "colab": {
          "base_uri": "https://localhost:8080/"
        },
        "id": "0RWYpfhl0Ik7",
        "outputId": "b9044437-2fbf-40ed-9cb8-0554721be5aa"
      },
      "outputs": [
        {
          "output_type": "stream",
          "name": "stdout",
          "text": [
            "---\n",
            "Trainer name: ash ketchum\n",
            "Pokemons caught: pikachu || bulbasaur || \n",
            "---\n",
            "Trainer name: Brock\n",
            "Pokemons caught: Onix || Zubat || Mudkip ||\n",
            "---\n",
            "Caught successfully\n",
            "Trainer name: ash ketchum\n",
            "Pokemons caught: pikachu || bulbasaur || Snorlax ||\n"
          ]
        }
      ],
      "source": [
        "class PokemonTrainer:\n",
        "  def __init__(self, name, a, b, c = ''):\n",
        "    self.name = name\n",
        "    self.a = a\n",
        "    self.b = b\n",
        "    self.c = c\n",
        "\n",
        "  def info(self):\n",
        "    print(f\"Trainer name: {self.name}\")\n",
        "    if self.c == '':\n",
        "      print(f'Pokemons caught: {self.a} || {self.b} || {self.c}')\n",
        "    else:\n",
        "      print(f'Pokemons caught: {self.a} || {self.b} || {self.c} ||')\n",
        "\n",
        "  def catch(self, pok):\n",
        "    print('Caught successfully')\n",
        "    self.pok = pok\n",
        "    self.c = pok\n",
        "    \n",
        "\n",
        "c1 = PokemonTrainer('ash ketchum','pikachu', 'bulbasaur')\n",
        "print('---')\n",
        "c1.info()\n",
        "print('---')\n",
        "\n",
        "c2 = PokemonTrainer('Brock','Onix', 'Zubat', 'Mudkip')\n",
        "c2.info()\n",
        "print('---')\n",
        "c1.catch('Snorlax')\n",
        "c1.info()"
      ]
    },
    {
      "cell_type": "code",
      "source": [
        ""
      ],
      "metadata": {
        "id": "MoSevP_G4NTb"
      },
      "execution_count": null,
      "outputs": []
    }
  ]
}